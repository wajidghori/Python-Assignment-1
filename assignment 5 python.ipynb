{
 "cells": [
  {
   "cell_type": "code",
   "execution_count": 12,
   "metadata": {},
   "outputs": [
    {
     "name": "stdout",
     "output_type": "stream",
     "text": [
      "Enter your number to calculate factorial: 11\n",
      "The factorial of 11 is 39916800\n"
     ]
    }
   ],
   "source": [
    "#Q.1\n",
    "numb = int(input(\"Enter your number to calculate factorial: \"))\n",
    "factorial = 1\n",
    "if numb < 0:\n",
    "   print(\"Sorry, factorial does not exist for negative numbers\")\n",
    "else:\n",
    "   for x in range(1,numb + 1):\n",
    "       factorial = factorial*x\n",
    "   print(\"The factorial of\",numb,\"is\",factorial)"
   ]
  },
  {
   "cell_type": "code",
   "execution_count": 13,
   "metadata": {},
   "outputs": [
    {
     "name": "stdout",
     "output_type": "stream",
     "text": [
      "Enter your string: The Angel has Fallen\n",
      "No. of Upper case characters :  3\n",
      "No. of Lower case Characters :  14\n"
     ]
    }
   ],
   "source": [
    "#Q.2\n",
    "def string_test(s):\n",
    "    a={\"UPPER_CASE\":0, \"LOWER_CASE\":0}\n",
    "    for c in s:\n",
    "        if c.isupper():\n",
    "           a[\"UPPER_CASE\"]+=1\n",
    "        elif c.islower():\n",
    "           a[\"LOWER_CASE\"]+=1\n",
    "        else:\n",
    "           pass\n",
    "    print (\"No. of Upper case characters : \", a[\"UPPER_CASE\"])\n",
    "    print (\"No. of Lower case Characters : \", a[\"LOWER_CASE\"])\n",
    "s = input(\"Enter your string: \")\n",
    "\n",
    "string_test(s)"
   ]
  },
  {
   "cell_type": "code",
   "execution_count": 14,
   "metadata": {},
   "outputs": [
    {
     "name": "stdout",
     "output_type": "stream",
     "text": [
      "20\n",
      "66\n",
      "40\n"
     ]
    }
   ],
   "source": [
    "#Q.3\n",
    "def even_numb():\n",
    "    list1 = [21,113,20,66,40,103]\n",
    "    for numb in list1:\n",
    "        if numb % 2==0:\n",
    "            print(numb)\n",
    "even_numb()"
   ]
  },
  {
   "cell_type": "code",
   "execution_count": 15,
   "metadata": {},
   "outputs": [
    {
     "name": "stdout",
     "output_type": "stream",
     "text": [
      "Enter your word: radar\n",
      "The string is a palindrome.\n"
     ]
    }
   ],
   "source": [
    "#Q.4\n",
    "def palin():\n",
    "    check_palin = input(\"Enter your word: \")\n",
    "    check_palin = check_palin.casefold()\n",
    "    rev_palin = reversed(check_palin)\n",
    "    if list(check_palin) == list(rev_palin):\n",
    "        print(\"The string is a palindrome.\")\n",
    "    else:\n",
    "        print(\"The string is not a palindrome.\")\n",
    "palin()"
   ]
  },
  {
   "cell_type": "code",
   "execution_count": 16,
   "metadata": {},
   "outputs": [
    {
     "name": "stdout",
     "output_type": "stream",
     "text": [
      "Enter your number: 89\n",
      "89 is a prime number\n"
     ]
    }
   ],
   "source": [
    "#Q.5\n",
    "def prime_numb():\n",
    "    numb = int(input(\"Enter your number: \"))\n",
    "    if numb > 1:\n",
    "        for i in range(2,numb//1):\n",
    "            if(numb % i) == 0:\n",
    "                print(numb,\"is not a prime number\")\n",
    "                break\n",
    "            else:\n",
    "                print(numb,\"is a prime number\")\n",
    "                break\n",
    "                \n",
    "prime_numb()"
   ]
  },
  {
   "cell_type": "code",
   "execution_count": 17,
   "metadata": {},
   "outputs": [
    {
     "name": "stdout",
     "output_type": "stream",
     "text": [
      "shirt\n",
      "jeans\n",
      "belt\n",
      "tie\n"
     ]
    }
   ],
   "source": [
    "#Q.6\n",
    "def shopping_list(*list_items):\n",
    "    for item in list_items:\n",
    "        print(item)\n",
    "shopping_list(\"shirt\", \"jeans\", \"belt\", \"tie\")"
   ]
  }
 ],
 "metadata": {
  "kernelspec": {
   "display_name": "Python 3",
   "language": "python",
   "name": "python3"
  },
  "language_info": {
   "codemirror_mode": {
    "name": "ipython",
    "version": 3
   },
   "file_extension": ".py",
   "mimetype": "text/x-python",
   "name": "python",
   "nbconvert_exporter": "python",
   "pygments_lexer": "ipython3",
   "version": "3.7.4"
  }
 },
 "nbformat": 4,
 "nbformat_minor": 2
}
