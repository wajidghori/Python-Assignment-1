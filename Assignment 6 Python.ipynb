{
 "cells": [
  {
   "cell_type": "code",
   "execution_count": null,
   "metadata": {},
   "outputs": [],
   "source": [
    "#answer-1\n",
    "\n",
    "Object Oriented Programing (OOP) is a paradigm in which real-world objects \n",
    "are each viewed as separate entities having their own state which is modified \n",
    "only by built in procedures, called methods."
   ]
  },
  {
   "cell_type": "code",
   "execution_count": null,
   "metadata": {},
   "outputs": [],
   "source": [
    "#answer-2\n",
    "\n",
    "Following are the benefits of Object oriented Programming (OOP):\n",
    "•\tOOP provides a clear modular structure for programs.\n",
    "•\tIt is good for defining abstract data types.\n",
    "•\tObjects can also be reused within an across applications.\n",
    "•\tReuse also enables faster development.\n",
    "•\tObjects, methods, instance, message passing, inheritance are some important properties provided.\n",
    "•\tEncapsulation, polymorphism, abstraction are also counts in these fundamentals of programming language.\n",
    "•\tIt implements real life scenario.\n",
    "•\tIn OOP, programmer not only defines data types but also deals with operations applied for data structures.\n"
   ]
  },
  {
   "cell_type": "code",
   "execution_count": null,
   "metadata": {},
   "outputs": [],
   "source": [
    "#answer-3\n",
    "\n",
    "Function:\n",
    "    \n",
    "Function is block of code that is also called by its name. (independent)\n",
    "The function can have different parameters or may not have any at all. If any data (parameters) are passed, they are passed explicitly.\n",
    "Function does not deal with Class and its instance concept.\n",
    "Functions can be called only by its name, as it is defined independently.\n",
    "\n",
    "Method:\n",
    "    \n",
    "Method is called by its name, but it is associated to an object (dependent).\n",
    "A method is implicitly passed the object on which it is invoked.\n",
    "A method can operate on the data (instance variables) that is contained by the corresponding class\n",
    "methods can’t be called by its name only,\n",
    "\n"
   ]
  },
  {
   "cell_type": "code",
   "execution_count": null,
   "metadata": {},
   "outputs": [],
   "source": [
    "#answer-4\n",
    "\n",
    "Class:\n",
    "It is a template or blue print about the capabilities of what an object can do.\n",
    "\n",
    "Object:\n",
    "An object is an instantiation of a class. When class is defined, only the description of the object is defined. \n",
    "Therefore, no memory or storage is allocated.\n",
    "\n",
    "Attribute:\n",
    "A class attribute is a Python variable that belongs to a class rather than a particular object. \n",
    "It is shared between all the objects of this class and it is defined outside the constructor function of the class.\n",
    "\n",
    "Behavior:\n",
    "Behavior is a characteristic of an object. Behaviors are actions that can occur on an object. \n"
   ]
  },
  {
   "cell_type": "code",
   "execution_count": 19,
   "metadata": {},
   "outputs": [
    {
     "name": "stdout",
     "output_type": "stream",
     "text": [
      "Suzuki\n",
      "1985\n",
      "White\n",
      "CNG\n",
      "16KM\n",
      "\n",
      "\n",
      "Toyota\n",
      "2004\n",
      "Golden\n",
      "Petrol\n",
      "12KM\n",
      "\n",
      "\n",
      "Nissan\n",
      "2015\n",
      "White\n",
      "CNG\n",
      "10KM\n",
      "\n",
      "\n",
      "Audi\n",
      "2017\n",
      "Black\n",
      "LPG\n",
      "18KM\n",
      "\n",
      "\n",
      "BMW\n",
      "2019\n",
      "Grey\n",
      "Diesel\n",
      "14KM\n",
      "\n",
      "\n"
     ]
    }
   ],
   "source": [
    "#answer-5\n",
    "class Car():\n",
    "    def __init__ (self,name,model,color,fuel,average):\n",
    "        self.name = name\n",
    "        self.model = model\n",
    "        self.color = color\n",
    "        self.fuel = fuel\n",
    "        self.average = average\n",
    "        \n",
    "car1 = Car('Suzuki', 1985, 'White', 'CNG', '16KM')\n",
    "print(car1.name)\n",
    "print(car1.model)\n",
    "print(car1.color)\n",
    "print(car1.fuel)\n",
    "print(car1.average)\n",
    "print('\\n')\n",
    "car2 = Car('Toyota', 2004, 'Golden', 'Petrol', '12KM')\n",
    "print(car2.name)\n",
    "print(car2.model)\n",
    "print(car2.color)\n",
    "print(car2.fuel)\n",
    "print(car2.average)\n",
    "print('\\n')\n",
    "car3 = Car('Nissan', 2015, 'White', 'CNG', '10KM')\n",
    "print(car3.name)\n",
    "print(car3.model)\n",
    "print(car3.color)\n",
    "print(car3.fuel)\n",
    "print(car3.average)\n",
    "print('\\n')\n",
    "car4 = Car('Audi', 2017, 'Black', 'LPG', '18KM')\n",
    "print(car4.name)\n",
    "print(car4.model)\n",
    "print(car4.color)\n",
    "print(car4.fuel)\n",
    "print(car4.average)\n",
    "print('\\n')\n",
    "car5 = Car('BMW', 2019, 'Grey', 'Diesel', '14KM')\n",
    "print(car5.name)\n",
    "print(car5.model)\n",
    "print(car5.color)\n",
    "print(car5.fuel)\n",
    "print(car5.average)\n",
    "print('\\n')"
   ]
  }
 ],
 "metadata": {
  "kernelspec": {
   "display_name": "Python 3",
   "language": "python",
   "name": "python3"
  },
  "language_info": {
   "codemirror_mode": {
    "name": "ipython",
    "version": 3
   },
   "file_extension": ".py",
   "mimetype": "text/x-python",
   "name": "python",
   "nbconvert_exporter": "python",
   "pygments_lexer": "ipython3",
   "version": "3.7.4"
  }
 },
 "nbformat": 4,
 "nbformat_minor": 2
}
