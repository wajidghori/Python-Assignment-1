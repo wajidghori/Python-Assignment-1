{
 "cells": [
  {
   "cell_type": "code",
   "execution_count": 1,
   "metadata": {},
   "outputs": [
    {
     "name": "stdout",
     "output_type": "stream",
     "text": [
      "Wajid\n",
      "Ghori\n",
      "27\n",
      "Karachi\n",
      "{'first_name': 'Wajid', 'last_name': 'Ghori', 'age': '27', 'city': 'Karachi', 'qualification': 'Intermediate'}\n",
      "{'first_name': 'Wajid', 'last_name': 'Ghori', 'age': '27', 'city': 'Karachi'}\n"
     ]
    }
   ],
   "source": [
    "#Q.1-Assignment 4\n",
    "friend = {\"first_name\":\"Wajid\", \"last_name\":\"Ghori\", \"age\":\"27\", \"city\":\"Karachi\"}\n",
    "print(friend[\"first_name\"])\n",
    "print(friend[\"last_name\"])\n",
    "print(friend[\"age\"])\n",
    "print(friend[\"city\"])\n",
    "#adding new key and value then printed\n",
    "friend[\"qualification\"] = \"Intermediate\"\n",
    "print(friend)\n",
    "#deleting newley added key and value then printed\n",
    "del friend[\"qualification\"]\n",
    "print(friend)"
   ]
  },
  {
   "cell_type": "code",
   "execution_count": 2,
   "metadata": {},
   "outputs": [
    {
     "name": "stdout",
     "output_type": "stream",
     "text": [
      "{'Name': 'Karachi', 'Country': 'Pakistan', 'Population': '15 Millions', 'Fact': 'Karachi is the fifth most populated cities in the world.'}\n",
      "{'Name': 'Islamabad', 'Country': 'Pakistan', 'Population': '1 Million', 'Fact': 'Islamabad built as a planned city in 1960s.'}\n",
      "{'Name': 'Multan', 'Country': 'Pakistan', 'Population': '1.8 Million', 'Fact': 'Multan is also known as land of saints.'}\n"
     ]
    }
   ],
   "source": [
    "#Q.2-Assignment 4\n",
    "cities = {\n",
    "  \"Karachi\" :  {\n",
    "      \"Name\" : \"Karachi\", \n",
    "      \"Country\": \"Pakistan\",\n",
    "        \"Population\" : \"15 Millions\",\n",
    "        \"Fact\" : \"Karachi is the fifth most populated cities in the world.\",\n",
    "    },\n",
    "  \"Islamabad\" :  {\n",
    "      \"Name\" : \"Islamabad\",\n",
    "        \"Country\" : \"Pakistan\",\n",
    "        \"Population\" : \"1 Million\",\n",
    "        \"Fact\" : \"Islamabad built as a planned city in 1960s.\",\n",
    "    },\n",
    "  \"Multan\" :  {\n",
    "      \"Name\" : \"Multan\",\n",
    "        \"Country\" : \"Pakistan\",\n",
    "        \"Population\" : \"1.8 Million\",\n",
    "        \"Fact\" : \"Multan is also known as land of saints.\",\n",
    "    }\n",
    "}\n",
    "print(cities[\"Karachi\"])\n",
    "print(cities[\"Islamabad\"])\n",
    "print(cities[\"Multan\"])"
   ]
  },
  {
   "cell_type": "code",
   "execution_count": 2,
   "metadata": {},
   "outputs": [
    {
     "name": "stdout",
     "output_type": "stream",
     "text": [
      "Enter your age:27\n",
      "Please pay 15$ for the movie ticket.\n"
     ]
    }
   ],
   "source": [
    "#Q.3-Assignment 4\n",
    "age = int(input(\"Enter your age:\"))\n",
    "if age < 3:\n",
    "    print(\"Hurray! Your movie ticket is free.\")\n",
    "elif age >= 3 and age <=12:\n",
    "    print(\"Please pay 10$ for the movie ticket.\")\n",
    "elif age > 12:\n",
    "    print(\"Please pay 15$ for the movie ticket.\")\n",
    "else:\n",
    "    print(\"Please type your age correctly and retry!\")"
   ]
  },
  {
   "cell_type": "code",
   "execution_count": 3,
   "metadata": {},
   "outputs": [
    {
     "name": "stdout",
     "output_type": "stream",
     "text": [
      "One of my favorite book is Harry Potter\n"
     ]
    }
   ],
   "source": [
    "#Q.4-Assignment 4\n",
    "def favorite_book(title):\n",
    "    \n",
    "    print(\"One of my favorite book is\", title)\n",
    "    \n",
    "favorite_book(\"Harry Potter\")"
   ]
  },
  {
   "cell_type": "code",
   "execution_count": 4,
   "metadata": {},
   "outputs": [
    {
     "name": "stdout",
     "output_type": "stream",
     "text": [
      "Hint: You can only choose numbers from 1-30\n",
      "Enter your 1st number5\n",
      "Enter your 2nd number6\n",
      "Enter your 3rd number12\n",
      "Hurray! you guessed a correct number. The answer is 12\n"
     ]
    }
   ],
   "source": [
    "print(\"Hint: You can only choose numbers from 1-30\")\n",
    "user_num1 = int(input(\"Enter your 1st number\"))\n",
    "user_num2 = int(input(\"Enter your 2nd number\"))\n",
    "user_num3 = int(input(\"Enter your 3rd number\"))\n",
    "\n",
    "ans = 12\n",
    "\n",
    "if user_num1 == ans or user_num2 == ans or user_num3 == ans:\n",
    "    print(\"Hurray! you guessed a correct number. The answer is\", ans)\n",
    "else:\n",
    "    print(\"Oh! You guessed a wrong number. Please try again.\")"
   ]
  }
 ],
 "metadata": {
  "kernelspec": {
   "display_name": "Python 3",
   "language": "python",
   "name": "python3"
  },
  "language_info": {
   "codemirror_mode": {
    "name": "ipython",
    "version": 3
   },
   "file_extension": ".py",
   "mimetype": "text/x-python",
   "name": "python",
   "nbconvert_exporter": "python",
   "pygments_lexer": "ipython3",
   "version": "3.7.4"
  }
 },
 "nbformat": 4,
 "nbformat_minor": 2
}
