{
 "cells": [
  {
   "cell_type": "code",
   "execution_count": 11,
   "metadata": {},
   "outputs": [
    {
     "name": "stdout",
     "output_type": "stream",
     "text": [
      "Enter your first value:5\n",
      "Enter your operator:+\n",
      "Enter your second value:3\n",
      "Your answer is: 8\n"
     ]
    }
   ],
   "source": [
    "#question 1\n",
    "value_1 = int(input(\"Enter your first value:\"))\n",
    "operator = input(\"Enter your operator:\")\n",
    "value_2 = int(input(\"Enter your second value:\"))\n",
    "\n",
    "if operator == '+':\n",
    "    val = value_1 + value_2\n",
    "    print(\"Your answer is:\", val)\n",
    "elif operator == '-':\n",
    "    val = value_1 - value_2\n",
    "    print(\"Your answer is:\", val)\n",
    "elif operator == '*':\n",
    "    val = value_1 * value_2\n",
    "    print(\"Your answer is:\", val)\n",
    "elif operator == '/':\n",
    "    val = value_1 / value_2\n",
    "    print(\"Your answer is:\", val)\n",
    "elif operator == '**':\n",
    "    val = value_1 ** value_2\n",
    "    print(\"Your answer is:\", val)\n",
    "else:\n",
    "    print(\"Error! Check your operator and try again\")"
   ]
  },
  {
   "cell_type": "code",
   "execution_count": 10,
   "metadata": {},
   "outputs": [
    {
     "name": "stdout",
     "output_type": "stream",
     "text": [
      "Enter your numeric value:1\n",
      "Your list does not contain numeric values\n",
      "Your list does not contain numeric values\n",
      "Your list does not contain numeric values\n",
      "Your list does not contain numeric values\n",
      "Your list does not contain numeric values\n"
     ]
    }
   ],
   "source": [
    "#question 2\n",
    "check_num = [0, 10, \"wajid\", 20, 30]\n",
    "val = int(input(\"Enter your numeric value:\"))\n",
    "for num in check_num:\n",
    "    if val == num:\n",
    "        print(\"Your list contains numeric values\")\n",
    "        break\n",
    "    else:\n",
    "        print(\"Your list does not contain numeric values\")"
   ]
  },
  {
   "cell_type": "code",
   "execution_count": 9,
   "metadata": {},
   "outputs": [
    {
     "name": "stdout",
     "output_type": "stream",
     "text": [
      "{'first name': 'wajid', 'last name': 'ghori', 'address': 'karachi', 'language': 'urdu'}\n"
     ]
    }
   ],
   "source": [
    "#question 3\n",
    "bio_data = {\n",
    "    \"first name\": \"wajid\",\n",
    "    \"last name\": \"ghori\",\n",
    "    \"address\": \"karachi\",\n",
    "}\n",
    "bio_data[\"language\"] = 'urdu'\n",
    "print(bio_data)"
   ]
  },
  {
   "cell_type": "code",
   "execution_count": 5,
   "metadata": {},
   "outputs": [
    {
     "name": "stdout",
     "output_type": "stream",
     "text": [
      "60\n"
     ]
    }
   ],
   "source": [
    "#question 4\n",
    "numeric_items = {\n",
    "    \"value 1\": 10,\n",
    "    \"value 2\": 20,\n",
    "    \"value 3\": 30,\n",
    "}\n",
    "print(sum(numeric_items.values()))"
   ]
  },
  {
   "cell_type": "code",
   "execution_count": 6,
   "metadata": {},
   "outputs": [
    {
     "name": "stdout",
     "output_type": "stream",
     "text": [
      "key does not exist\n"
     ]
    }
   ],
   "source": [
    "#question 6\n",
    "check_key = {\"a\": 10, \"b\": 20, \"c\": 30}\n",
    "if \"d\" in check_key:\n",
    "    print(\"key exists\")\n",
    "else:\n",
    "    print(\"key does not exist\")"
   ]
  },
  {
   "cell_type": "code",
   "execution_count": null,
   "metadata": {},
   "outputs": [],
   "source": []
  }
 ],
 "metadata": {
  "kernelspec": {
   "display_name": "Python 3",
   "language": "python",
   "name": "python3"
  },
  "language_info": {
   "codemirror_mode": {
    "name": "ipython",
    "version": 3
   },
   "file_extension": ".py",
   "mimetype": "text/x-python",
   "name": "python",
   "nbconvert_exporter": "python",
   "pygments_lexer": "ipython3",
   "version": "3.7.4"
  }
 },
 "nbformat": 4,
 "nbformat_minor": 2
}
